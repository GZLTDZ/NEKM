{
 "cells": [
  {
   "cell_type": "markdown",
   "metadata": {},
   "source": [
    "### In this file, we consider the PDE system $\\mathcal{L} \\mathbf{u} = \\mathbf{f}$ with zero Dirichlet boundary condition, where\n",
    "$$\n",
    "\\mathcal{L}=\\left[\\begin{array}{cc}\n",
    "1 & -\\lambda \\Delta \\\\\n",
    "\\lambda \\Delta & 1\n",
    "\\end{array}\\right],\n",
    "\\quad\n",
    "\\mathbf{u}=\\left[\\begin{array}{c} u_1 \\\\ u_2 \\end{array}\\right]\n",
    "\\quad\n",
    "\\mathbf{f}=\\left[\\begin{array}{c} f_1 \\\\ f_2 \\end{array}\\right]\n",
    "$$"
   ]
  },
  {
   "cell_type": "code",
   "execution_count": 1,
   "metadata": {},
   "outputs": [],
   "source": [
    "import torch\n",
    "import torch.nn as nn\n",
    "import numpy as np\n",
    "import os\n",
    "import matplotlib.pyplot as plt"
   ]
  },
  {
   "cell_type": "code",
   "execution_count": 2,
   "metadata": {},
   "outputs": [
    {
     "name": "stdout",
     "output_type": "stream",
     "text": [
      "GPU: NVIDIA GeForce RTX 3080 Ti\n",
      "GPU memory: 12038.19 MB\n"
     ]
    }
   ],
   "source": [
    "device = torch.device(\"cuda:4\" if torch.cuda.is_available() else \"cpu\")\n",
    "\n",
    "if torch.cuda.is_available():\n",
    "    gpu_info = torch.cuda.get_device_properties(0)\n",
    "    print(f\"GPU: {gpu_info.name}\")\n",
    "    print(f\"GPU memory: {gpu_info.total_memory / 1024**2:.2f} MB\")"
   ]
  },
  {
   "cell_type": "code",
   "execution_count": 3,
   "metadata": {},
   "outputs": [],
   "source": [
    "n = 40\n",
    "h = 1 / n \n",
    "m = n - 1\n",
    "m2 = m * m\n",
    "lambda_ = 0.05"
   ]
  },
  {
   "cell_type": "code",
   "execution_count": 4,
   "metadata": {},
   "outputs": [],
   "source": [
    "id_m = np.identity(m)\n",
    "d1= np.identity(m)\n",
    "d1[0][1] = 1\n",
    "d1[m - 1][m - 2] = 1\n",
    "for i in range(0, m):\n",
    "    d1[i][i] = -2\n",
    "    if (i >= 1) and (i <= m - 2):\n",
    "        d1[i][i - 1] = 1\n",
    "        d1[i][i + 1] = 1\n",
    "D = np.kron(id_m, d1) + np.kron(d1, id_m)\n",
    "D = D / (h ** 2)"
   ]
  },
  {
   "cell_type": "code",
   "execution_count": 5,
   "metadata": {},
   "outputs": [],
   "source": [
    "L = np.zeros((2 * m2, 2 * m2))\n",
    "L[0: m2, 0: m2] = np.identity(m2)\n",
    "L[0: m2, m2: 2 * m2] = - lambda_ * D\n",
    "L[m2: 2 * m2, 0: m2] = lambda_ * D\n",
    "L[m2: 2 * m2, m2: 2 * m2] = np.identity(m2)"
   ]
  },
  {
   "cell_type": "code",
   "execution_count": 6,
   "metadata": {},
   "outputs": [],
   "source": [
    "x = np.linspace(0, 1, n + 1)\n",
    "y = np.linspace(0, 1, n + 1)\n",
    "X, Y = np.meshgrid(x, y)"
   ]
  },
  {
   "cell_type": "code",
   "execution_count": 7,
   "metadata": {},
   "outputs": [],
   "source": [
    "u1_exact = X * (1 - X) * np.sin(np.pi * Y)\n",
    "u2_exact = np.sin(np.pi * X) * Y * (1 - Y)\n",
    "laplace_u1 = -2 * np.sin(np.pi * Y) - np.pi ** 2 * u1_exact\n",
    "laplace_u2 = -2 * np.sin(np.pi * X) - np.pi ** 2 * u2_exact\n",
    "f1 = u1_exact - lambda_ * laplace_u2\n",
    "f2 = lambda_ * laplace_u1 + u2_exact"
   ]
  },
  {
   "cell_type": "code",
   "execution_count": 8,
   "metadata": {},
   "outputs": [],
   "source": [
    "F = np.concatenate([f1[1:-1, 1:-1].flatten(), f2[1:-1, 1:-1].flatten()])"
   ]
  },
  {
   "cell_type": "code",
   "execution_count": 9,
   "metadata": {},
   "outputs": [],
   "source": [
    "from scipy import sparse\n",
    "from scipy.sparse.linalg import spsolve\n",
    "L_sparse = sparse.csr_matrix(L)\n",
    "u_numerical = spsolve(L_sparse, F)"
   ]
  },
  {
   "cell_type": "code",
   "execution_count": 10,
   "metadata": {},
   "outputs": [],
   "source": [
    "u1_numerical = np.zeros_like(u1_exact)\n",
    "u2_numerical = np.zeros_like(u2_exact)\n",
    "u1_numerical[1:-1, 1:-1] = u_numerical[0: m2].reshape((m, m))\n",
    "u2_numerical[1:-1, 1:-1] = u_numerical[m2: 2 * m2].reshape((m, m))"
   ]
  },
  {
   "cell_type": "code",
   "execution_count": 11,
   "metadata": {},
   "outputs": [],
   "source": [
    "def computeErrors(u_exact, u_pre, printOrNot):\n",
    "    error = u_exact - u_pre\n",
    "    l2_norm_abs = np.linalg.norm(error, ord=2) / np.sqrt(error.size)\n",
    "    max_norm_abs = np.max(np.abs(error))\n",
    "    l2_norm_rel = np.linalg.norm(error, ord=2) / np.linalg.norm(u_exact, ord=2)\n",
    "    max_norm_rel = np.max(np.abs(error)) / np.max(np.abs(u_exact))  \n",
    "    \n",
    "    l2_norm_rel_percent = l2_norm_rel * 100\n",
    "    max_norm_rel_percent = max_norm_rel * 100\n",
    "    \n",
    "    if printOrNot == True:\n",
    "        print(f\"Absolute L2 Norm Error: {l2_norm_abs:.8f}\")\n",
    "        print(f\"Absolute Max Norm Error: {max_norm_abs:.8f}\")\n",
    "        print(f\"Relative L2 Norm Error: {l2_norm_rel_percent:.6f}%\")\n",
    "        print(f\"Relative Max Norm Error: {max_norm_rel_percent:.6f}%\")"
   ]
  },
  {
   "cell_type": "code",
   "execution_count": 12,
   "metadata": {},
   "outputs": [
    {
     "name": "stdout",
     "output_type": "stream",
     "text": [
      "Absolute L2 Norm Error: 0.00003214\n",
      "Absolute Max Norm Error: 0.00006535\n",
      "Relative L2 Norm Error: 0.025516%\n",
      "Relative Max Norm Error: 0.026139%\n"
     ]
    }
   ],
   "source": [
    "computeErrors(u1_exact, u1_numerical, True)"
   ]
  },
  {
   "cell_type": "code",
   "execution_count": 13,
   "metadata": {},
   "outputs": [
    {
     "name": "stdout",
     "output_type": "stream",
     "text": [
      "Absolute L2 Norm Error: 0.00000032\n",
      "Absolute Max Norm Error: 0.00000079\n",
      "Relative L2 Norm Error: 0.000255%\n",
      "Relative Max Norm Error: 0.000318%\n"
     ]
    }
   ],
   "source": [
    "computeErrors(u2_exact, u2_numerical, True)"
   ]
  }
 ],
 "metadata": {
  "kernelspec": {
   "display_name": "pytorch",
   "language": "python",
   "name": "python3"
  },
  "language_info": {
   "codemirror_mode": {
    "name": "ipython",
    "version": 3
   },
   "file_extension": ".py",
   "mimetype": "text/x-python",
   "name": "python",
   "nbconvert_exporter": "python",
   "pygments_lexer": "ipython3",
   "version": "3.9.21"
  }
 },
 "nbformat": 4,
 "nbformat_minor": 2
}
